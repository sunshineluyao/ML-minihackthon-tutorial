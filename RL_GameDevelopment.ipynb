{
  "nbformat": 4,
  "nbformat_minor": 0,
  "metadata": {
    "colab": {
      "provenance": [],
      "authorship_tag": "ABX9TyMaKQXU2LgzW0zfMnWGk64y",
      "include_colab_link": true
    },
    "kernelspec": {
      "name": "python3",
      "display_name": "Python 3"
    },
    "language_info": {
      "name": "python"
    }
  },
  "cells": [
    {
      "cell_type": "markdown",
      "metadata": {
        "id": "view-in-github",
        "colab_type": "text"
      },
      "source": [
        "<a href=\"https://colab.research.google.com/github/sunshineluyao/ML-minihackthon-tutorial/blob/main/RL_GameDevelopment.ipynb\" target=\"_parent\"><img src=\"https://colab.research.google.com/assets/colab-badge.svg\" alt=\"Open In Colab\"/></a>"
      ]
    },
    {
      "cell_type": "markdown",
      "source": [
        "# Step 1: Install the Packages and Set up the RL Env"
      ],
      "metadata": {
        "id": "jMR0H0sYaLFL"
      }
    },
    {
      "cell_type": "markdown",
      "source": [
        "To start, ensure all necessary libraries are installed. OpenAI Gym provides the RL environments, and W&B offers live monitoring.\n"
      ],
      "metadata": {
        "id": "K_EZgZQ58Z2P"
      }
    },
    {
      "cell_type": "code",
      "source": [
        "!pip install gym gymnasium shimmy stable-baselines3"
      ],
      "metadata": {
        "colab": {
          "base_uri": "https://localhost:8080/"
        },
        "id": "0ipMOFJ58e5u",
        "outputId": "3753372a-c4d0-4011-fdb0-1ca9088af60f"
      },
      "execution_count": null,
      "outputs": [
        {
          "output_type": "stream",
          "name": "stdout",
          "text": [
            "Requirement already satisfied: gym in /usr/local/lib/python3.10/dist-packages (0.25.2)\n",
            "Requirement already satisfied: gymnasium in /usr/local/lib/python3.10/dist-packages (1.0.0)\n",
            "Requirement already satisfied: shimmy in /usr/local/lib/python3.10/dist-packages (2.0.0)\n",
            "Requirement already satisfied: stable-baselines3 in /usr/local/lib/python3.10/dist-packages (2.4.0)\n",
            "Requirement already satisfied: numpy>=1.18.0 in /usr/local/lib/python3.10/dist-packages (from gym) (1.26.4)\n",
            "Requirement already satisfied: cloudpickle>=1.2.0 in /usr/local/lib/python3.10/dist-packages (from gym) (3.1.0)\n",
            "Requirement already satisfied: gym_notices>=0.0.4 in /usr/local/lib/python3.10/dist-packages (from gym) (0.0.8)\n",
            "Requirement already satisfied: typing-extensions>=4.3.0 in /usr/local/lib/python3.10/dist-packages (from gymnasium) (4.12.2)\n",
            "Requirement already satisfied: farama-notifications>=0.0.1 in /usr/local/lib/python3.10/dist-packages (from gymnasium) (0.0.4)\n",
            "Requirement already satisfied: torch>=1.13 in /usr/local/lib/python3.10/dist-packages (from stable-baselines3) (2.5.1+cu121)\n",
            "Requirement already satisfied: pandas in /usr/local/lib/python3.10/dist-packages (from stable-baselines3) (2.2.2)\n",
            "Requirement already satisfied: matplotlib in /usr/local/lib/python3.10/dist-packages (from stable-baselines3) (3.8.0)\n",
            "Requirement already satisfied: filelock in /usr/local/lib/python3.10/dist-packages (from torch>=1.13->stable-baselines3) (3.16.1)\n",
            "Requirement already satisfied: networkx in /usr/local/lib/python3.10/dist-packages (from torch>=1.13->stable-baselines3) (3.4.2)\n",
            "Requirement already satisfied: jinja2 in /usr/local/lib/python3.10/dist-packages (from torch>=1.13->stable-baselines3) (3.1.4)\n",
            "Requirement already satisfied: fsspec in /usr/local/lib/python3.10/dist-packages (from torch>=1.13->stable-baselines3) (2024.10.0)\n",
            "Requirement already satisfied: sympy==1.13.1 in /usr/local/lib/python3.10/dist-packages (from torch>=1.13->stable-baselines3) (1.13.1)\n",
            "Requirement already satisfied: mpmath<1.4,>=1.1.0 in /usr/local/lib/python3.10/dist-packages (from sympy==1.13.1->torch>=1.13->stable-baselines3) (1.3.0)\n",
            "Requirement already satisfied: contourpy>=1.0.1 in /usr/local/lib/python3.10/dist-packages (from matplotlib->stable-baselines3) (1.3.1)\n",
            "Requirement already satisfied: cycler>=0.10 in /usr/local/lib/python3.10/dist-packages (from matplotlib->stable-baselines3) (0.12.1)\n",
            "Requirement already satisfied: fonttools>=4.22.0 in /usr/local/lib/python3.10/dist-packages (from matplotlib->stable-baselines3) (4.55.0)\n",
            "Requirement already satisfied: kiwisolver>=1.0.1 in /usr/local/lib/python3.10/dist-packages (from matplotlib->stable-baselines3) (1.4.7)\n",
            "Requirement already satisfied: packaging>=20.0 in /usr/local/lib/python3.10/dist-packages (from matplotlib->stable-baselines3) (24.2)\n",
            "Requirement already satisfied: pillow>=6.2.0 in /usr/local/lib/python3.10/dist-packages (from matplotlib->stable-baselines3) (11.0.0)\n",
            "Requirement already satisfied: pyparsing>=2.3.1 in /usr/local/lib/python3.10/dist-packages (from matplotlib->stable-baselines3) (3.2.0)\n",
            "Requirement already satisfied: python-dateutil>=2.7 in /usr/local/lib/python3.10/dist-packages (from matplotlib->stable-baselines3) (2.8.2)\n",
            "Requirement already satisfied: pytz>=2020.1 in /usr/local/lib/python3.10/dist-packages (from pandas->stable-baselines3) (2024.2)\n",
            "Requirement already satisfied: tzdata>=2022.7 in /usr/local/lib/python3.10/dist-packages (from pandas->stable-baselines3) (2024.2)\n",
            "Requirement already satisfied: six>=1.5 in /usr/local/lib/python3.10/dist-packages (from python-dateutil>=2.7->matplotlib->stable-baselines3) (1.16.0)\n",
            "Requirement already satisfied: MarkupSafe>=2.0 in /usr/local/lib/python3.10/dist-packages (from jinja2->torch>=1.13->stable-baselines3) (3.0.2)\n"
          ]
        }
      ]
    },
    {
      "cell_type": "markdown",
      "source": [
        "# Step 2 Set up Real Time Monitoring"
      ],
      "metadata": {
        "id": "Qf2KtFRGaR7x"
      }
    },
    {
      "cell_type": "markdown",
      "source": [
        "Log in to [W&B](https://docs.wandb.ai/quickstart/) using your API key for experiment tracking.\n"
      ],
      "metadata": {
        "id": "TTD0LwbY8ihY"
      }
    },
    {
      "cell_type": "code",
      "source": [
        "import wandb\n",
        "wandb.login()\n"
      ],
      "metadata": {
        "colab": {
          "base_uri": "https://localhost:8080/"
        },
        "id": "It6fokb49IQn",
        "outputId": "7abf2b15-8d59-46ec-e8e6-89425a7c1f37"
      },
      "execution_count": null,
      "outputs": [
        {
          "output_type": "stream",
          "name": "stderr",
          "text": [
            "\u001b[34m\u001b[1mwandb\u001b[0m: \u001b[33mWARNING\u001b[0m Calling wandb.login() after wandb.init() has no effect.\n"
          ]
        },
        {
          "output_type": "execute_result",
          "data": {
            "text/plain": [
              "True"
            ]
          },
          "metadata": {},
          "execution_count": 28
        }
      ]
    },
    {
      "cell_type": "markdown",
      "source": [
        "We'll use the CartPole environment from OpenAI Gym. This is a simple environment suitable for demonstrating RL training.\n"
      ],
      "metadata": {
        "id": "6CUtfRfL9Q4U"
      }
    },
    {
      "cell_type": "markdown",
      "source": [
        "# Step 3 Train the Model"
      ],
      "metadata": {
        "id": "a5M6JqL8aoUb"
      }
    },
    {
      "cell_type": "code",
      "source": [
        "import gym\n",
        "env = gym.make('CartPole-v1')\n"
      ],
      "metadata": {
        "colab": {
          "base_uri": "https://localhost:8080/"
        },
        "id": "Ru-W9hfQ9LH0",
        "outputId": "3654de87-f318-4e0b-a69c-470e6c924d07"
      },
      "execution_count": null,
      "outputs": [
        {
          "output_type": "stream",
          "name": "stderr",
          "text": [
            "/usr/local/lib/python3.10/dist-packages/gym/core.py:317: DeprecationWarning: \u001b[33mWARN: Initializing wrapper in old step API which returns one bool instead of two. It is recommended to set `new_step_api=True` to use new step API. This will be the default behaviour in future.\u001b[0m\n",
            "  deprecation(\n",
            "/usr/local/lib/python3.10/dist-packages/gym/wrappers/step_api_compatibility.py:39: DeprecationWarning: \u001b[33mWARN: Initializing environment in old step API which returns one bool instead of two. It is recommended to set `new_step_api=True` to use new step API. This will be the default behaviour in future.\u001b[0m\n",
            "  deprecation(\n"
          ]
        }
      ]
    },
    {
      "cell_type": "markdown",
      "source": [
        "We'll use Stable-Baselines3's `PPO` algorithm for training.\n"
      ],
      "metadata": {
        "id": "C4U6lEDe9VjR"
      }
    },
    {
      "cell_type": "code",
      "source": [
        "import gymnasium as gym  # Gymnasium instead of Gym\n",
        "from stable_baselines3 import PPO\n",
        "\n",
        "# Example: CartPole-v1 environment\n",
        "env = gym.make('CartPole-v1')\n",
        "model = PPO('MlpPolicy', env, verbose=1)\n"
      ],
      "metadata": {
        "colab": {
          "base_uri": "https://localhost:8080/"
        },
        "id": "LQ6sZIn89Yh6",
        "outputId": "9121e181-a6e3-4779-d2a6-d22cdb6a97c4"
      },
      "execution_count": null,
      "outputs": [
        {
          "output_type": "stream",
          "name": "stdout",
          "text": [
            "Using cpu device\n",
            "Wrapping the env with a `Monitor` wrapper\n",
            "Wrapping the env in a DummyVecEnv.\n"
          ]
        }
      ]
    },
    {
      "cell_type": "markdown",
      "source": [
        "Integrate W&B to log metrics during the training process.\n"
      ],
      "metadata": {
        "id": "My-q7LfS9xCN"
      }
    },
    {
      "cell_type": "code",
      "source": [
        "from wandb.integration.sb3 import WandbCallback\n",
        "\n",
        "wandb.init(project=\"RL-with-Monitoring\", sync_tensorboard=True)\n",
        "\n",
        "# Train the model with W&B callback for monitoring\n",
        "model.learn(total_timesteps=10000, callback=WandbCallback())\n"
      ],
      "metadata": {
        "colab": {
          "base_uri": "https://localhost:8080/",
          "height": 1000
        },
        "id": "TzV1QTCr9y8R",
        "outputId": "0ab00cdc-9a5b-422a-fec4-ecfd056a638c"
      },
      "execution_count": null,
      "outputs": [
        {
          "output_type": "display_data",
          "data": {
            "text/plain": [
              "<IPython.core.display.HTML object>"
            ],
            "text/html": [
              "Finishing last run (ID:s4cp2aer) before initializing another..."
            ]
          },
          "metadata": {}
        },
        {
          "output_type": "display_data",
          "data": {
            "text/plain": [
              "<IPython.core.display.HTML object>"
            ],
            "text/html": [
              " View run <strong style=\"color:#cdcd00\">pious-universe-2</strong> at: <a href='https://wandb.ai/sunshineluyao-duke-university/RL-with-Monitoring/runs/s4cp2aer' target=\"_blank\">https://wandb.ai/sunshineluyao-duke-university/RL-with-Monitoring/runs/s4cp2aer</a><br/> View project at: <a href='https://wandb.ai/sunshineluyao-duke-university/RL-with-Monitoring' target=\"_blank\">https://wandb.ai/sunshineluyao-duke-university/RL-with-Monitoring</a><br/>Synced 5 W&B file(s), 0 media file(s), 0 artifact file(s) and 0 other file(s)"
            ]
          },
          "metadata": {}
        },
        {
          "output_type": "display_data",
          "data": {
            "text/plain": [
              "<IPython.core.display.HTML object>"
            ],
            "text/html": [
              "Find logs at: <code>./wandb/run-20241127_190122-s4cp2aer/logs</code>"
            ]
          },
          "metadata": {}
        },
        {
          "output_type": "display_data",
          "data": {
            "text/plain": [
              "<IPython.core.display.HTML object>"
            ],
            "text/html": [
              "Successfully finished last run (ID:s4cp2aer). Initializing new run:<br/>"
            ]
          },
          "metadata": {}
        },
        {
          "output_type": "display_data",
          "data": {
            "text/plain": [
              "<IPython.core.display.HTML object>"
            ],
            "text/html": [
              "Tracking run with wandb version 0.18.7"
            ]
          },
          "metadata": {}
        },
        {
          "output_type": "display_data",
          "data": {
            "text/plain": [
              "<IPython.core.display.HTML object>"
            ],
            "text/html": [
              "Run data is saved locally in <code>/content/wandb/run-20241128_011114-tlvl979q</code>"
            ]
          },
          "metadata": {}
        },
        {
          "output_type": "display_data",
          "data": {
            "text/plain": [
              "<IPython.core.display.HTML object>"
            ],
            "text/html": [
              "Syncing run <strong><a href='https://wandb.ai/sunshineluyao-duke-university/RL-with-Monitoring/runs/tlvl979q' target=\"_blank\">lemon-frost-3</a></strong> to <a href='https://wandb.ai/sunshineluyao-duke-university/RL-with-Monitoring' target=\"_blank\">Weights & Biases</a> (<a href='https://wandb.me/developer-guide' target=\"_blank\">docs</a>)<br/>"
            ]
          },
          "metadata": {}
        },
        {
          "output_type": "display_data",
          "data": {
            "text/plain": [
              "<IPython.core.display.HTML object>"
            ],
            "text/html": [
              " View project at <a href='https://wandb.ai/sunshineluyao-duke-university/RL-with-Monitoring' target=\"_blank\">https://wandb.ai/sunshineluyao-duke-university/RL-with-Monitoring</a>"
            ]
          },
          "metadata": {}
        },
        {
          "output_type": "display_data",
          "data": {
            "text/plain": [
              "<IPython.core.display.HTML object>"
            ],
            "text/html": [
              " View run at <a href='https://wandb.ai/sunshineluyao-duke-university/RL-with-Monitoring/runs/tlvl979q' target=\"_blank\">https://wandb.ai/sunshineluyao-duke-university/RL-with-Monitoring/runs/tlvl979q</a>"
            ]
          },
          "metadata": {}
        },
        {
          "output_type": "stream",
          "name": "stdout",
          "text": [
            "---------------------------------\n",
            "| rollout/           |          |\n",
            "|    ep_len_mean     | 22.5     |\n",
            "|    ep_rew_mean     | 22.5     |\n",
            "| time/              |          |\n",
            "|    fps             | 432      |\n",
            "|    iterations      | 1        |\n",
            "|    time_elapsed    | 4        |\n",
            "|    total_timesteps | 2048     |\n",
            "---------------------------------\n",
            "-----------------------------------------\n",
            "| rollout/                |             |\n",
            "|    ep_len_mean          | 26.9        |\n",
            "|    ep_rew_mean          | 26.9        |\n",
            "| time/                   |             |\n",
            "|    fps                  | 450         |\n",
            "|    iterations           | 2           |\n",
            "|    time_elapsed         | 9           |\n",
            "|    total_timesteps      | 4096        |\n",
            "| train/                  |             |\n",
            "|    approx_kl            | 0.008647941 |\n",
            "|    clip_fraction        | 0.102       |\n",
            "|    clip_range           | 0.2         |\n",
            "|    entropy_loss         | -0.686      |\n",
            "|    explained_variance   | 0.000213    |\n",
            "|    learning_rate        | 0.0003      |\n",
            "|    loss                 | 5.8         |\n",
            "|    n_updates            | 10          |\n",
            "|    policy_gradient_loss | -0.0161     |\n",
            "|    value_loss           | 53.7        |\n",
            "-----------------------------------------\n",
            "-----------------------------------------\n",
            "| rollout/                |             |\n",
            "|    ep_len_mean          | 37          |\n",
            "|    ep_rew_mean          | 37          |\n",
            "| time/                   |             |\n",
            "|    fps                  | 533         |\n",
            "|    iterations           | 3           |\n",
            "|    time_elapsed         | 11          |\n",
            "|    total_timesteps      | 6144        |\n",
            "| train/                  |             |\n",
            "|    approx_kl            | 0.008009814 |\n",
            "|    clip_fraction        | 0.052       |\n",
            "|    clip_range           | 0.2         |\n",
            "|    entropy_loss         | -0.666      |\n",
            "|    explained_variance   | 0.0642      |\n",
            "|    learning_rate        | 0.0003      |\n",
            "|    loss                 | 15.9        |\n",
            "|    n_updates            | 20          |\n",
            "|    policy_gradient_loss | -0.0164     |\n",
            "|    value_loss           | 42.5        |\n",
            "-----------------------------------------\n",
            "-----------------------------------------\n",
            "| rollout/                |             |\n",
            "|    ep_len_mean          | 47.9        |\n",
            "|    ep_rew_mean          | 47.9        |\n",
            "| time/                   |             |\n",
            "|    fps                  | 577         |\n",
            "|    iterations           | 4           |\n",
            "|    time_elapsed         | 14          |\n",
            "|    total_timesteps      | 8192        |\n",
            "| train/                  |             |\n",
            "|    approx_kl            | 0.006648465 |\n",
            "|    clip_fraction        | 0.0616      |\n",
            "|    clip_range           | 0.2         |\n",
            "|    entropy_loss         | -0.642      |\n",
            "|    explained_variance   | 0.264       |\n",
            "|    learning_rate        | 0.0003      |\n",
            "|    loss                 | 25.6        |\n",
            "|    n_updates            | 30          |\n",
            "|    policy_gradient_loss | -0.0142     |\n",
            "|    value_loss           | 57          |\n",
            "-----------------------------------------\n",
            "-----------------------------------------\n",
            "| rollout/                |             |\n",
            "|    ep_len_mean          | 63.4        |\n",
            "|    ep_rew_mean          | 63.4        |\n",
            "| time/                   |             |\n",
            "|    fps                  | 609         |\n",
            "|    iterations           | 5           |\n",
            "|    time_elapsed         | 16          |\n",
            "|    total_timesteps      | 10240       |\n",
            "| train/                  |             |\n",
            "|    approx_kl            | 0.007824198 |\n",
            "|    clip_fraction        | 0.0688      |\n",
            "|    clip_range           | 0.2         |\n",
            "|    entropy_loss         | -0.614      |\n",
            "|    explained_variance   | 0.3         |\n",
            "|    learning_rate        | 0.0003      |\n",
            "|    loss                 | 22.2        |\n",
            "|    n_updates            | 40          |\n",
            "|    policy_gradient_loss | -0.017      |\n",
            "|    value_loss           | 61          |\n",
            "-----------------------------------------\n"
          ]
        },
        {
          "output_type": "execute_result",
          "data": {
            "text/plain": [
              "<stable_baselines3.ppo.ppo.PPO at 0x7885f6a9dab0>"
            ]
          },
          "metadata": {},
          "execution_count": 31
        }
      ]
    },
    {
      "cell_type": "markdown",
      "source": [
        "Test the trained model, visualize the agent's performance, and produce a video.\n"
      ],
      "metadata": {
        "id": "OlXr1fLd-IWC"
      }
    },
    {
      "cell_type": "markdown",
      "source": [
        "# Step 4: Test the Model"
      ],
      "metadata": {
        "id": "lLkSXpHEa9IR"
      }
    },
    {
      "cell_type": "code",
      "source": [
        "import gymnasium as gym\n",
        "from gym.wrappers import RecordVideo\n",
        "import os\n",
        "\n",
        "# Create the environment with video recording capability\n",
        "env = gym.make('CartPole-v1', render_mode=\"rgb_array\")\n",
        "env = RecordVideo(env, video_folder=\"./videos\", episode_trigger=lambda episode_id: True)\n",
        "\n",
        "# Ensure video folder exists\n",
        "os.makedirs(\"./videos\", exist_ok=True)\n",
        "\n",
        "# Reset the environment\n",
        "obs, info = env.reset()\n",
        "\n",
        "# Run the episode and record video\n",
        "for step in range(500):  # Run for a fixed number of steps\n",
        "    # Get the action from the trained model\n",
        "    action, _ = model.predict(obs)\n",
        "\n",
        "    # Step the environment\n",
        "    result = env.step(action)\n",
        "\n",
        "    # Unpack the result correctly\n",
        "    if len(result) == 4:  # Old step API (backward compatibility)\n",
        "        obs, reward, done, info = result\n",
        "        terminated, truncated = done, False  # Assume `done` is terminated\n",
        "    else:  # New step API\n",
        "        obs, reward, terminated, truncated, info = result\n",
        "\n",
        "    # Stop if the episode is terminated or truncated\n",
        "    if terminated or truncated:\n",
        "        obs, info = env.reset()\n",
        "\n",
        "# Close the environment\n",
        "env.close()\n",
        "\n",
        "# List recorded videos to debug\n",
        "video_files = os.listdir(\"./videos\")\n",
        "print(\"Recorded Videos:\", video_files)\n"
      ],
      "metadata": {
        "colab": {
          "base_uri": "https://localhost:8080/"
        },
        "id": "w2_hyNIL-I_P",
        "outputId": "23e145c8-252c-446d-94bf-53b2c5cbe555"
      },
      "execution_count": null,
      "outputs": [
        {
          "output_type": "stream",
          "name": "stderr",
          "text": [
            "/usr/local/lib/python3.10/dist-packages/gym/wrappers/record_video.py:78: UserWarning: \u001b[33mWARN: Overwriting existing videos at /content/videos folder (try specifying a different `video_folder` for the `RecordVideo` wrapper if this is not desired)\u001b[0m\n",
            "  logger.warn(\n"
          ]
        },
        {
          "output_type": "stream",
          "name": "stdout",
          "text": [
            "Recorded Videos: ['rl-video-episode-3.meta.json', 'rl-video-episode-1.meta.json', 'rl-video-episode-1.mp4', 'rl-video-episode-2.meta.json', 'rl-video-episode-3.mp4', 'rl-video-episode-0.mp4', 'rl-video-episode-4.meta.json', 'rl-video-episode-4.mp4', 'rl-video-episode-2.mp4', 'rl-video-episode-0.meta.json']\n"
          ]
        }
      ]
    }
  ]
}